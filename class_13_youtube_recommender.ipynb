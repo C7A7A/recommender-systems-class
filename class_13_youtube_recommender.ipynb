{
 "cells": [
  {
   "cell_type": "markdown",
   "id": "mature-projection",
   "metadata": {},
   "source": [
    "# YouTube Recommender"
   ]
  },
  {
   "cell_type": "code",
   "execution_count": 1,
   "id": "verified-accommodation",
   "metadata": {},
   "outputs": [],
   "source": [
    "%matplotlib inline\n",
    "%load_ext autoreload\n",
    "%autoreload 2\n",
    "\n",
    "import numpy as np\n",
    "import pandas as pd\n",
    "import matplotlib.pyplot as plt\n",
    "import seaborn as sns\n",
    "from IPython.display import Markdown, display, HTML\n",
    "from collections import defaultdict, deque\n",
    "\n",
    "from livelossplot import PlotLosses\n",
    "import torch\n",
    "import torch.nn as nn\n",
    "import torch.optim as optim\n",
    "\n",
    "# Fix the dying kernel problem (only a problem in some installations - you can remove it, if it works without it)\n",
    "import os\n",
    "os.environ['KMP_DUPLICATE_LIB_OK'] = 'True'\n",
    "os.environ['CUDA_LAUNCH_BLOCKING'] = '1'"
   ]
  },
  {
   "cell_type": "markdown",
   "id": "proud-catholic",
   "metadata": {},
   "source": [
    "# Candidate Generation Network"
   ]
  },
  {
   "cell_type": "markdown",
   "id": "civilian-assessment",
   "metadata": {},
   "source": [
    "**Task 1.** Code the Deep Candidate Generation Network as described in the Covington, Adams, Sargin, Deep Neural Networks for YouTube Recommendations. The network should accept the following parameters in the init method:\n",
    "\n",
    "- n_items - dictionary size (the number of all items), \n",
    "- embedding_dim - item embedding dimension, \n",
    "- hidden_dim - last fully connected hidden layer size (user embedding dim), \n",
    "- n_hidden_layers - the number of hidden layers, \n",
    "- seed - seed for the random number generator.\n",
    "\n",
    "The input to the network has the following form:\n",
    "\n",
    "```\n",
    "user_histories = [\n",
    "    torch.LongTensor([7, 3, 9]),\n",
    "    torch.LongTensor([11]),\n",
    "    torch.LongTensor([0]),\n",
    "    torch.LongTensor([10, 1, 4, 8])\n",
    "]\n",
    "```\n",
    "\n",
    "It's a batch of item interaction histories for several users. The histories can have different lengths.\n",
    "\n",
    "The architecture of the network should be as follows:\n",
    "\n",
    "- In the first step you can loop over elements of the batch.\n",
    "- The embedding layer should be applied to every user's history.\n",
    "- An average embedding should be calculated for the entire user's history.\n",
    "- The entire batch of those averaged embeddings should be fed forward through hidden layers. There should be n_hidden_layers hidden layers. The last hidden layer should have hidden_dim output neurons. Every previous hidden layer should have twice as many output neurons as the next hidden layer. The first hidden layer must have the input dimension compatible with the result of operations described in previous bullets.\n",
    "- The final layer should have hidden_dim input neurons and one output neuron per item. Finally, softmax should be applied on this layer.\n",
    "- All layers should not have the bias term."
   ]
  },
  {
   "cell_type": "code",
   "execution_count": 6,
   "id": "supposed-minimum",
   "metadata": {},
   "outputs": [],
   "source": [
    "class DeepCandidateGenerationModel(nn.Module):\n",
    "    \"\"\"\n",
    "    Extreme multi-class classifier network.\n",
    "    \"\"\"\n",
    "    def __init__(self, n_items, embedding_dim, hidden_dim, n_hidden_layers, seed):\n",
    "        super().__init__()\n",
    "\n",
    "        self.seed = torch.manual_seed(seed)\n",
    "        self.item_embedding = nn.Embedding(n_items, embedding_dim)\n",
    "        self.linears = nn.ModuleList([nn.Linear(2 * embedding_dim, hidden_dim * (2 ^ n_hidden_layers), bias=False)])\n",
    "\n",
    "        for n_hidden_layer in range(n_hidden_layers):\n",
    "            self.linears.append(nn.Linear(hidden_dim * (2 ^ n_hidden_layer), hidden_dim * (2 ^ n_hidden_layer - 1), bias=False))\n",
    "\n",
    "\n",
    "    def forward(self, user_histories):\n",
    "        ########################\n",
    "        # Write your code here #\n",
    "        ########################\n",
    "\n",
    "\n",
    "        return x"
   ]
  },
  {
   "cell_type": "code",
   "execution_count": 7,
   "id": "administrative-elephant",
   "metadata": {},
   "outputs": [
    {
     "ename": "RuntimeError",
     "evalue": "Trying to create tensor with negative dimension -18: [-18, 12]",
     "output_type": "error",
     "traceback": [
      "\u001b[1;31m---------------------------------------------------------------------------\u001b[0m",
      "\u001b[1;31mRuntimeError\u001b[0m                              Traceback (most recent call last)",
      "\u001b[1;32m~\\AppData\\Local\\Temp/ipykernel_6428/4293410063.py\u001b[0m in \u001b[0;36m<module>\u001b[1;34m\u001b[0m\n\u001b[0;32m      1\u001b[0m \u001b[1;31m# Test\u001b[0m\u001b[1;33m\u001b[0m\u001b[1;33m\u001b[0m\u001b[1;33m\u001b[0m\u001b[0m\n\u001b[0;32m      2\u001b[0m \u001b[1;33m\u001b[0m\u001b[0m\n\u001b[1;32m----> 3\u001b[1;33m \u001b[0mdcg_network\u001b[0m \u001b[1;33m=\u001b[0m \u001b[0mDeepCandidateGenerationModel\u001b[0m\u001b[1;33m(\u001b[0m\u001b[0mn_items\u001b[0m\u001b[1;33m=\u001b[0m\u001b[1;36m12\u001b[0m\u001b[1;33m,\u001b[0m \u001b[0membedding_dim\u001b[0m\u001b[1;33m=\u001b[0m\u001b[1;36m3\u001b[0m\u001b[1;33m,\u001b[0m \u001b[0mhidden_dim\u001b[0m\u001b[1;33m=\u001b[0m\u001b[1;36m6\u001b[0m\u001b[1;33m,\u001b[0m \u001b[0mn_hidden_layers\u001b[0m\u001b[1;33m=\u001b[0m\u001b[1;36m4\u001b[0m\u001b[1;33m,\u001b[0m \u001b[0mseed\u001b[0m\u001b[1;33m=\u001b[0m\u001b[1;36m6789\u001b[0m\u001b[1;33m)\u001b[0m\u001b[1;33m\u001b[0m\u001b[1;33m\u001b[0m\u001b[0m\n\u001b[0m\u001b[0;32m      4\u001b[0m \u001b[1;33m\u001b[0m\u001b[0m\n\u001b[0;32m      5\u001b[0m \u001b[0mprint\u001b[0m\u001b[1;33m(\u001b[0m\u001b[0mdcg_network\u001b[0m\u001b[1;33m)\u001b[0m\u001b[1;33m\u001b[0m\u001b[1;33m\u001b[0m\u001b[0m\n",
      "\u001b[1;32m~\\AppData\\Local\\Temp/ipykernel_6428/4007064610.py\u001b[0m in \u001b[0;36m__init__\u001b[1;34m(self, n_items, embedding_dim, hidden_dim, n_hidden_layers, seed)\u001b[0m\n\u001b[0;32m     11\u001b[0m \u001b[1;33m\u001b[0m\u001b[0m\n\u001b[0;32m     12\u001b[0m         \u001b[1;32mfor\u001b[0m \u001b[0mn_hidden_layer\u001b[0m \u001b[1;32min\u001b[0m \u001b[0mrange\u001b[0m\u001b[1;33m(\u001b[0m\u001b[0mn_hidden_layers\u001b[0m\u001b[1;33m)\u001b[0m\u001b[1;33m:\u001b[0m\u001b[1;33m\u001b[0m\u001b[1;33m\u001b[0m\u001b[0m\n\u001b[1;32m---> 13\u001b[1;33m             \u001b[0mself\u001b[0m\u001b[1;33m.\u001b[0m\u001b[0mlinears\u001b[0m\u001b[1;33m.\u001b[0m\u001b[0mappend\u001b[0m\u001b[1;33m(\u001b[0m\u001b[0mnn\u001b[0m\u001b[1;33m.\u001b[0m\u001b[0mLinear\u001b[0m\u001b[1;33m(\u001b[0m\u001b[0mhidden_dim\u001b[0m \u001b[1;33m*\u001b[0m \u001b[1;33m(\u001b[0m\u001b[1;36m2\u001b[0m \u001b[1;33m^\u001b[0m \u001b[0mn_hidden_layer\u001b[0m\u001b[1;33m)\u001b[0m\u001b[1;33m,\u001b[0m \u001b[0mhidden_dim\u001b[0m \u001b[1;33m*\u001b[0m \u001b[1;33m(\u001b[0m\u001b[1;36m2\u001b[0m \u001b[1;33m^\u001b[0m \u001b[0mn_hidden_layer\u001b[0m \u001b[1;33m-\u001b[0m \u001b[1;36m1\u001b[0m\u001b[1;33m)\u001b[0m\u001b[1;33m,\u001b[0m \u001b[0mbias\u001b[0m\u001b[1;33m=\u001b[0m\u001b[1;32mFalse\u001b[0m\u001b[1;33m)\u001b[0m\u001b[1;33m)\u001b[0m\u001b[1;33m\u001b[0m\u001b[1;33m\u001b[0m\u001b[0m\n\u001b[0m\u001b[0;32m     14\u001b[0m \u001b[1;33m\u001b[0m\u001b[0m\n\u001b[0;32m     15\u001b[0m \u001b[1;33m\u001b[0m\u001b[0m\n",
      "\u001b[1;32mj:\\.AppData\\Python\\Python38\\site-packages\\torch\\nn\\modules\\linear.py\u001b[0m in \u001b[0;36m__init__\u001b[1;34m(self, in_features, out_features, bias, device, dtype)\u001b[0m\n\u001b[0;32m     83\u001b[0m         \u001b[0mself\u001b[0m\u001b[1;33m.\u001b[0m\u001b[0min_features\u001b[0m \u001b[1;33m=\u001b[0m \u001b[0min_features\u001b[0m\u001b[1;33m\u001b[0m\u001b[1;33m\u001b[0m\u001b[0m\n\u001b[0;32m     84\u001b[0m         \u001b[0mself\u001b[0m\u001b[1;33m.\u001b[0m\u001b[0mout_features\u001b[0m \u001b[1;33m=\u001b[0m \u001b[0mout_features\u001b[0m\u001b[1;33m\u001b[0m\u001b[1;33m\u001b[0m\u001b[0m\n\u001b[1;32m---> 85\u001b[1;33m         \u001b[0mself\u001b[0m\u001b[1;33m.\u001b[0m\u001b[0mweight\u001b[0m \u001b[1;33m=\u001b[0m \u001b[0mParameter\u001b[0m\u001b[1;33m(\u001b[0m\u001b[0mtorch\u001b[0m\u001b[1;33m.\u001b[0m\u001b[0mempty\u001b[0m\u001b[1;33m(\u001b[0m\u001b[1;33m(\u001b[0m\u001b[0mout_features\u001b[0m\u001b[1;33m,\u001b[0m \u001b[0min_features\u001b[0m\u001b[1;33m)\u001b[0m\u001b[1;33m,\u001b[0m \u001b[1;33m**\u001b[0m\u001b[0mfactory_kwargs\u001b[0m\u001b[1;33m)\u001b[0m\u001b[1;33m)\u001b[0m\u001b[1;33m\u001b[0m\u001b[1;33m\u001b[0m\u001b[0m\n\u001b[0m\u001b[0;32m     86\u001b[0m         \u001b[1;32mif\u001b[0m \u001b[0mbias\u001b[0m\u001b[1;33m:\u001b[0m\u001b[1;33m\u001b[0m\u001b[1;33m\u001b[0m\u001b[0m\n\u001b[0;32m     87\u001b[0m             \u001b[0mself\u001b[0m\u001b[1;33m.\u001b[0m\u001b[0mbias\u001b[0m \u001b[1;33m=\u001b[0m \u001b[0mParameter\u001b[0m\u001b[1;33m(\u001b[0m\u001b[0mtorch\u001b[0m\u001b[1;33m.\u001b[0m\u001b[0mempty\u001b[0m\u001b[1;33m(\u001b[0m\u001b[0mout_features\u001b[0m\u001b[1;33m,\u001b[0m \u001b[1;33m**\u001b[0m\u001b[0mfactory_kwargs\u001b[0m\u001b[1;33m)\u001b[0m\u001b[1;33m)\u001b[0m\u001b[1;33m\u001b[0m\u001b[1;33m\u001b[0m\u001b[0m\n",
      "\u001b[1;31mRuntimeError\u001b[0m: Trying to create tensor with negative dimension -18: [-18, 12]"
     ]
    }
   ],
   "source": [
    "# Test\n",
    "\n",
    "dcg_network = DeepCandidateGenerationModel(n_items=12, embedding_dim=3, hidden_dim=6, n_hidden_layers=4, seed=6789)\n",
    "\n",
    "print(dcg_network)\n",
    "\n",
    "user_histories = [\n",
    "    torch.LongTensor([7, 3, 9]),\n",
    "    torch.LongTensor([11]),\n",
    "    torch.LongTensor([0]),\n",
    "    torch.LongTensor([10, 1, 4, 8])\n",
    "]\n",
    "\n",
    "result = dcg_network(user_histories)\n",
    "print(result)\n",
    "\n",
    "assert (np.round(np.array(result.tolist()), 4) == np.round(\n",
    "    np.array([[0.0814482569694519, 0.08233463764190674, 0.08382046967744827, 0.08316171914339066, 0.08304114639759064, \n",
    "               0.08322826772928238, 0.08181853592395782, 0.08334977924823761, 0.08427998423576355, 0.0858381986618042, \n",
    "               0.08428454399108887, 0.08339447528123856], \n",
    "              [0.08161208778619766, 0.0823715552687645, 0.08370236307382584, 0.0829075276851654, 0.08293760567903519, \n",
    "               0.08351287990808487, 0.08229964226484299, 0.08368352055549622, 0.08461923152208328, 0.08492446690797806, \n",
    "               0.08417494595050812, 0.08325410634279251], \n",
    "              [0.07629935443401337, 0.07855911552906036, 0.08342088758945465, 0.07980967313051224, 0.08325998485088348, \n",
    "               0.08542384952306747, 0.07999198138713837, 0.086661696434021, 0.08794154226779938, 0.0872378796339035, \n",
    "               0.08619119971990585, 0.08520283550024033], \n",
    "              [0.08132115006446838, 0.08194458484649658, 0.08329392224550247, 0.08231865614652634, 0.08351138979196548, \n",
    "               0.08392892777919769, 0.08234265446662903, 0.08428220450878143, 0.08438169211149216, 0.0844755545258522, \n",
    "               0.08409841358661652, 0.08410079777240753]]), 4)).all()"
   ]
  },
  {
   "cell_type": "markdown",
   "id": "asian-adelaide",
   "metadata": {},
   "source": [
    "# Ranking Network"
   ]
  },
  {
   "cell_type": "markdown",
   "id": "reduced-dairy",
   "metadata": {},
   "source": [
    "**Task 2.** Code the Deep Ranking Network as described in the Covington, Adams, Sargin, Deep Neural Networks for YouTube Recommendations. The network should accept the following parameters in the init method:\n",
    "\n",
    "- n_items - dictionary size (the number of all items), \n",
    "- embedding_dim - item embedding dimension, \n",
    "- hidden_dim - last fully connected hidden layer size (user embedding dim), \n",
    "- n_hidden_layers - the number of hidden layers, \n",
    "- seed - seed for the random number generator.\n",
    "\n",
    "The input to the network has the following form:\n",
    "\n",
    "```\n",
    "user_history = torch.LongTensor([7, 3, 9])\n",
    "\n",
    "scored_item = torch.LongTensor([0, 1, 2, 3, 4, 5, 6, 7, 8, 9, 10, 11])\n",
    "```\n",
    "\n",
    "It's an item interaction history for a single user and a batch of item ids to be scored.\n",
    "\n",
    "The architecture of the network should be as follows:\n",
    "\n",
    "- The embedding layer should be applied to user's history.\n",
    "- An average embedding should be calculated for user's history.\n",
    "- The embedding layer should be applied to the batch of scored items.\n",
    "- The user's history average embedding should be concatenated from the left side to every scored item embedding in the batch.\n",
    "- The entire batch of those concatenated embeddings should be fed forward through hidden layers. There should be n_hidden_layers hidden layers. The last hidden layer should have hidden_dim output neurons. Every previous hidden layer should have twice as many output neurons as the next hidden layer. The first hidden layer must have the input dimension compatible with the result of operations described in previous bullets. Hidden layers should not have the bias term.\n",
    "- The final layer should have hidden_dim input neurons and one output neuron. This layer should have the bias term. Finally, sigmoid should be applied on this layer."
   ]
  },
  {
   "cell_type": "code",
   "execution_count": null,
   "id": "constant-jerusalem",
   "metadata": {},
   "outputs": [],
   "source": [
    "class DeepRankingModel(nn.Module):\n",
    "    \"\"\"\n",
    "    Ranking network.\n",
    "    \"\"\"\n",
    "    def __init__(self, n_items, embedding_dim, hidden_dim, n_hidden_layers, seed):\n",
    "        super().__init__()\n",
    "\n",
    "        self.seed = torch.manual_seed(seed)\n",
    "        ########################\n",
    "        # Write your code here #\n",
    "        ########################\n",
    "\n",
    "\n",
    "    def forward(self, user_history, scored_item):\n",
    "        ########################\n",
    "        # Write your code here #\n",
    "        ########################\n",
    "\n",
    "\n",
    "        return x"
   ]
  },
  {
   "cell_type": "code",
   "execution_count": null,
   "id": "framed-connectivity",
   "metadata": {},
   "outputs": [],
   "source": [
    "# Test\n",
    "\n",
    "dr_network = DeepRankingModel(n_items=12, embedding_dim=3, hidden_dim=6, n_hidden_layers=4, seed=6789)\n",
    "\n",
    "print(dr_network)\n",
    "\n",
    "user_history = torch.LongTensor([7, 3, 9])\n",
    "\n",
    "scored_item = torch.LongTensor([0, 1, 2, 3, 4, 5, 6, 7, 8, 9, 10, 11])\n",
    "\n",
    "result = dr_network(user_history, scored_item)\n",
    "print(result)\n",
    "\n",
    "assert all(np.round(np.array(result.tolist()), 4) == np.round(\n",
    "    np.array([[0.4069308638572693], [0.407929003238678], [0.4055391550064087], [0.40804415941238403], [0.4105871021747589], \n",
    "              [0.4065965712070465], [0.40611234307289124], [0.40995174646377563], [0.40362346172332764], \n",
    "              [0.4062325656414032], [0.4094473421573639], [0.41004639863967896]]), 4))"
   ]
  }
 ],
 "metadata": {
  "kernelspec": {
   "display_name": "Python 3 (ipykernel)",
   "language": "python",
   "name": "python3"
  },
  "language_info": {
   "codemirror_mode": {
    "name": "ipython",
    "version": 3
   },
   "file_extension": ".py",
   "mimetype": "text/x-python",
   "name": "python",
   "nbconvert_exporter": "python",
   "pygments_lexer": "ipython3",
   "version": "3.8.10"
  }
 },
 "nbformat": 4,
 "nbformat_minor": 5
}
